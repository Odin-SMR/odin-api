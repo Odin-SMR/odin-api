{
 "cells": [
  {
   "cell_type": "markdown",
   "metadata": {},
   "source": [
    "## The Area API endpoint\n",
    "\n",
    "This is an example of using the area API endpoint. It can be used to get level2 data for a certain area of the Earth during a certain time period.\n",
    "\n",
    "See the [api docs](http://odin.rss.chalmers.se/apidocs/index.html?url=/rest_api/v4/spec#!/level2/get_rest_api_version_level2_project_area) for specification of inputs and outputs for this endpoint.\n",
    "\n",
    "We will be looking at the O3 product in this demo:"
   ]
  },
  {
   "cell_type": "code",
   "execution_count": 3,
   "metadata": {
    "collapsed": true
   },
   "outputs": [],
   "source": [
    "product = \"O3 / 501 GHz / 20 to 50 km\""
   ]
  },
  {
   "cell_type": "markdown",
   "metadata": {},
   "source": [
    "This demo will generate a heatmap of average VMR per month and latitude range. The code is written in python and fetches data from the area API endpoint.\n",
    "\n",
    "The first function calculates the average VMR for a certain latitude range and time range."
   ]
  },
  {
   "cell_type": "code",
   "execution_count": 4,
   "metadata": {
    "collapsed": false
   },
   "outputs": [],
   "source": [
    "import requests\n",
    "def get_latitude_average(product, start_lat, end_lat, start_time, end_time, verbose=True):\n",
    "    \"\"\"Calculate average vmr for a certain product and in a certain time\n",
    "    and latitude range\n",
    "    \"\"\"\n",
    "    url = 'http://odin.rss.chalmers.se/rest_api/v4/level2/QSMRVDS/area'\n",
    "    params = {\n",
    "        'product' : product,\n",
    "        'start_time': start_time,\n",
    "        'end_time': end_time,\n",
    "        'min_lat': start_lat,\n",
    "        'max_lat': end_lat,\n",
    "        'min_lon': 0,\n",
    "        'max_lon': 360,\n",
    "        'min_altitude': 0,\n",
    "        'max_altitude': 150000}\n",
    "    r = requests.get(url, params)\n",
    "\n",
    "    if r.status_code != 200:\n",
    "        print r.status_code\n",
    "        print r.text\n",
    "        raise\n",
    "    data = r.json()\n",
    "    if not data['Info']['Nr']:\n",
    "        # No matching scans\n",
    "        return 0.0\n",
    "\n",
    "    nr_scans = len(set([element['ScanID'] for element in data['Info']['Results']]))\n",
    "    if verbose:\n",
    "        print start_time, 'Nr scans:', nr_scans\n",
    "    sum_vmr = sum([element['VMR'] for element in data['Info']['Results']])\n",
    "    return sum_vmr/nr_scans"
   ]
  },
  {
   "cell_type": "markdown",
   "metadata": {},
   "source": [
    "Get the average VMR between 55 N to 70 N in november 2010:"
   ]
  },
  {
   "cell_type": "code",
   "execution_count": 5,
   "metadata": {
    "collapsed": false
   },
   "outputs": [
    {
     "name": "stdout",
     "output_type": "stream",
     "text": [
      "2010-11-01 Nr scans: 17\n"
     ]
    },
    {
     "data": {
      "text/plain": [
       "7.090816265593464e-05"
      ]
     },
     "execution_count": 5,
     "metadata": {},
     "output_type": "execute_result"
    }
   ],
   "source": [
    "get_latitude_average(product, 55, 70, '2010-11-01', '2010-12-01')"
   ]
  },
  {
   "cell_type": "markdown",
   "metadata": {},
   "source": [
    "The next function loops over all months between 2005 to 2015 and calculates the average VMR for each month for a certain latitude range."
   ]
  },
  {
   "cell_type": "code",
   "execution_count": 12,
   "metadata": {
    "collapsed": false
   },
   "outputs": [],
   "source": [
    "from datetime import datetime\n",
    "from dateutil.relativedelta import relativedelta\n",
    "\n",
    "def get_latitude_average_over_time(product, start_lat, end_lat, verbose=False):\n",
    "    \"\"\"Calculate average vmr for each month for a certain product and in a\n",
    "    certain latitude range\n",
    "    \"\"\"\n",
    "    start_time = datetime(2005, 1, 1)\n",
    "    end_time = datetime(2015, 1, 1)\n",
    "\n",
    "    average_vmr = []\n",
    "    time = []\n",
    "\n",
    "    current = start_time\n",
    "    while current < end_time:\n",
    "        end = current + relativedelta(months=1)\n",
    "        average_vmr.append(get_latitude_average(product, start_lat, end_lat, current, end, verbose=verbose))\n",
    "        time.append(current)\n",
    "        current = end\n",
    "    \n",
    "    return average_vmr, time"
   ]
  },
  {
   "cell_type": "markdown",
   "metadata": {},
   "source": [
    "The last function loops over the latitude ranges and produces a matrix of average VMR."
   ]
  },
  {
   "cell_type": "code",
   "execution_count": 13,
   "metadata": {
    "collapsed": false
   },
   "outputs": [],
   "source": [
    "def get_lat_average_over_time_and_lat(product, lat_step=15, verbose=False):\n",
    "    \"\"\"Calculate average vmr for each month and latitude range\"\"\"\n",
    "    data = []\n",
    "    lat = []\n",
    "    for start_lat in range(-90, 90, lat_step):\n",
    "        av_vmr, time = get_latitude_average_over_time(product, start_lat, start_lat+lat_step, verbose=verbose)\n",
    "        data.append(av_vmr)\n",
    "        lat.append(start_lat)\n",
    "    return data, lat, time"
   ]
  },
  {
   "cell_type": "code",
   "execution_count": 14,
   "metadata": {
    "collapsed": false,
    "scrolled": true
   },
   "outputs": [],
   "source": [
    "average_vmr, latitudes, months = get_lat_average_over_time_and_lat(product)"
   ]
  },
  {
   "cell_type": "markdown",
   "metadata": {},
   "source": [
    "And finally we make a heatmap plot of the data:"
   ]
  },
  {
   "cell_type": "code",
   "execution_count": 15,
   "metadata": {
    "collapsed": false,
    "scrolled": false
   },
   "outputs": [],
   "source": [
    "%matplotlib inline\n",
    "from matplotlib import pyplot as plt\n",
    "import numpy as np\n",
    "\n",
    "def heatmap(data, lat, time):\n",
    "    plt.rcParams[\"figure.figsize\"] = (16,10)\n",
    "\n",
    "    fig, ax = plt.subplots()\n",
    "    ax.pcolor(data)\n",
    "\n",
    "    # Move ticks to middle of each cell\n",
    "    ax.set_yticks(np.arange(len(lat)) + 0.5, minor=True)\n",
    "    ax.set_yticks(np.arange(0), minor=False)\n",
    "    ax.set_xticks(np.arange(0, len(time), 12), minor=False)\n",
    "\n",
    "    # Set labels\n",
    "    ax.set_xticklabels([t.strftime('%y') for t in time if t.month == 1], minor=False)\n",
    "    ax.set_yticklabels(['%d to %d' % (l, l+15) for l in lat], minor=True)\n",
    "\n",
    "    ax.grid(which='major', linestyle='-', color='k')                                                \n",
    "\n",
    "    # Turn off all the ticks\n",
    "    ax = plt.gca()\n",
    "    \n",
    "    plt.ylabel('Latitude')\n",
    "    plt.xlabel('Year')\n",
    "\n",
    "    for t in ax.xaxis.get_major_ticks():\n",
    "        t.tick1On = False\n",
    "        t.tick2On = False\n",
    "    for t in ax.yaxis.get_minor_ticks():\n",
    "        t.tick1On = False\n",
    "        t.tick2On = False"
   ]
  },
  {
   "cell_type": "code",
   "execution_count": 16,
   "metadata": {
    "collapsed": false
   },
   "outputs": [
    {
     "data": {
      "image/png": "[encoded data removed]",
      "text/plain": [
       "<matplotlib.figure.Figure at 0x7f7336744990>"
      ]
     },
     "metadata": {},
     "output_type": "display_data"
    }
   ],
   "source": [
    "heatmap(average_vmr, latitudes, months)"
   ]
  }
 ],
 "metadata": {
  "kernelspec": {
   "display_name": "Python 2",
   "language": "python",
   "name": "python2"
  },
  "language_info": {
   "codemirror_mode": {
    "name": "ipython",
    "version": 2
   },
   "file_extension": ".py",
   "mimetype": "text/x-python",
   "name": "python",
   "nbconvert_exporter": "python",
   "pygments_lexer": "ipython2",
   "version": "2.7.12"
  }
 },
 "nbformat": 4,
 "nbformat_minor": 1
}
