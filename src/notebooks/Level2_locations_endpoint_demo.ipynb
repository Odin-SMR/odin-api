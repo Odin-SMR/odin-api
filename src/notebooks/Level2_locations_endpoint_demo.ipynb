{
 "cells": [
  {
   "cell_type": "markdown",
   "metadata": {},
   "source": [
    "## The Locations API endpoint\n",
    "\n",
    "This is an example of using the locations API endpoint. It can be used to get level2 data within certain radius of a location on the Earth during a certain time period.\n",
    "\n",
    "See the [api docs](http://odin.rss.chalmers.se/apidocs/index.html?url=/rest_api/v4/spec#!/level2/get_rest_api_version_level2_project_locations) for specification of inputs and outputs for this endpoint."
   ]
  },
  {
   "cell_type": "markdown",
   "metadata": {},
   "source": [
    "#### Getting information on the products available\n",
    "First we implement and run a small function for getting a list of the products that are available for the project `QSMRVDS`. This is done by making a *GET request* to the products endpoint URI of the API. The response from the API also includes the number of data points available for each product:"
   ]
  },
  {
   "cell_type": "code",
   "execution_count": 3,
   "metadata": {
    "collapsed": true
   },
   "outputs": [],
   "source": [
    "import requests\n",
    "\n",
    "\n",
    "def example_get_project_overview(project=\"QSMRVDS\"):\n",
    "    \"\"\"Get project overview\"\"\"\n",
    "    r = requests.get(\n",
    "        \"http://odin.rss.chalmers.se/rest_api/v4/level2/{0}/products\".format(project))\n",
    "    return r.json()"
   ]
  },
  {
   "cell_type": "code",
   "execution_count": 4,
   "metadata": {
    "collapsed": false
   },
   "outputs": [
    {
     "data": {
      "text/plain": [
       "{u'Info': {u'Products': {u'ClO / 501 GHz / 20 to 50 km': 248215,\n",
       "   u'H2O-dummy / 501 GHz': 12,\n",
       "   u'N2O / 502 GHz / 20 to 50 km': 564125,\n",
       "   u'O3 / 501 GHz / 20 to 50 km': 564125,\n",
       "   u'O3-dummy / 501 GHz': 88}}}"
      ]
     },
     "execution_count": 4,
     "metadata": {},
     "output_type": "execute_result"
    }
   ],
   "source": [
    "example_get_project_overview()"
   ]
  },
  {
   "cell_type": "markdown",
   "metadata": {},
   "source": [
    "We will be looking at the O3 product in this demo:"
   ]
  },
  {
   "cell_type": "code",
   "execution_count": 5,
   "metadata": {
    "collapsed": true
   },
   "outputs": [],
   "source": [
    "PRODUCT = \"O3 / 501 GHz / 20 to 50 km\""
   ]
  },
  {
   "cell_type": "markdown",
   "metadata": {},
   "source": [
    "#### Getting data around location\n",
    "Next we implement a function for getting data for a given period within a 1000 km radius of Frascati, Italy. The data call also requires either a pressure or an altitude range, which we set to the default range for the O3 product: 20 km - 50 km. The *GET request* is a little more complicated in this instance.\n",
    "\n",
    "*(The altitude range, radius and location could of course have been arguments to the function instead, but lets keep it simple. For the interested reader it might be worth noting that Gothenburg is located at latitude 57.7 and longitude 11.97)*"
   ]
  },
  {
   "cell_type": "code",
   "execution_count": 7,
   "metadata": {
    "collapsed": true
   },
   "outputs": [],
   "source": [
    "def example_data_for_location(product=PRODUCT, start=\"2010-11-01\",\n",
    "                              end=\"2010-12-01\"):\n",
    "    \"\"\"Get product for a radius of 1000 km centered on Frascati for period\"\"\"\n",
    "    r = requests.get(\n",
    "        \"http://odin.rss.chalmers.se/rest_api/v4/level2/QSMRVDS/locations?\"\n",
    "        \"radius={radius}&location={lat},{lon}&product={product}\"\n",
    "        \"&min_altitude={min_alt}&max_altitude={max_alt}\"\n",
    "        \"&start_time={start}&end_time={end}\".format(\n",
    "            product=product,\n",
    "            lat=41.8166\n",
    "            lon=12.683333,\n",
    "            radius=1000,\n",
    "            min_alt=20000,\n",
    "            max_alt=50000,\n",
    "            start=start,\n",
    "            end=end,\n",
    "        ))\n",
    "    return r.json()"
   ]
  },
  {
   "cell_type": "markdown",
   "metadata": {},
   "source": [
    "To inspect the data we import pprint, short for \"pretty print\" as a convenience:"
   ]
  },
  {
   "cell_type": "code",
   "execution_count": 15,
   "metadata": {
    "collapsed": false
   },
   "outputs": [
    {
     "name": "stdout",
     "output_type": "stream",
     "text": [
      "Number of data points: 31\n",
      "Example data:\n",
      "{u'AVK': [-4.6382884334358357e-08,\n",
      "          -2.289270553356654e-06,\n",
      "          -4.238271996941165e-05,\n",
      "          -0.0001402517130486291,\n",
      "          -0.00015055234893258343,\n",
      "          -0.00011505544560503735,\n",
      "          -7.786940851757872e-05,\n",
      "          -8.307241658840858e-05,\n",
      "          -0.00010559738766274327,\n",
      "          6.47519685177161e-06,\n",
      "          6.241526278354996e-05,\n",
      "          -0.0008659590182972402,\n",
      "          -0.004462326486218782,\n",
      "          -0.011413490912467487,\n",
      "          -0.015744724351826087,\n",
      "          0.005143879489222251,\n",
      "          0.07564531562946672,\n",
      "          0.192630262137111,\n",
      "          0.24344144331629067,\n",
      "          0.13561460292263874,\n",
      "          0.0765367996909842,\n",
      "          0.05051990594907768,\n",
      "          0.03481779325196905,\n",
      "          0.020405885938144686,\n",
      "          0.011402625831442498],\n",
      " u'Altitude': 48117.45602898654,\n",
      " u'Apriori': 3.353015766456828e-06,\n",
      " u'ErrorNoise': 5.460686009529726e-07,\n",
      " u'ErrorTotal': 5.547166661569419e-07,\n",
      " u'FreqMode': 1,\n",
      " u'InvMode': u'stnd',\n",
      " u'Lat1D': 47.79910371173281,\n",
      " u'Latitude': 48.79359640685403,\n",
      " u'Lon1D': 5.792465758692042,\n",
      " u'Longitude': 6.164440313085279,\n",
      " u'MJD': 55506.28979672175,\n",
      " u'MeasResponse': 0.8130237867534112,\n",
      " u'Pressure': 74.98942093324558,\n",
      " u'Product': u'O3 / 501 GHz / 20 to 50 km',\n",
      " u'Quality': None,\n",
      " u'ScanID': 4902640343,\n",
      " u'Temperature': 250.9243694952805,\n",
      " u'VMR': 1.5780238735788293e-06}\n"
     ]
    }
   ],
   "source": [
    "from pprint import pprint\n",
    "\n",
    "\n",
    "data = example_data_for_location(PRODUCT)\n",
    "print \"Number of data points:\", data['Info']['Nr']\n",
    "print \"Example data:\"\n",
    "pprint(data['Info']['Results'][0])"
   ]
  },
  {
   "cell_type": "markdown",
   "metadata": {},
   "source": [
    "#### Putting it together\n",
    "Finally we put together a function that makes repeated calls to the previously defined function, aggregating the data for the specified years into monthly averages. The end results is a plot with errorbars as well as maximum and minimum values for the different months."
   ]
  },
  {
   "cell_type": "code",
   "execution_count": 27,
   "metadata": {
    "collapsed": false
   },
   "outputs": [],
   "source": [
    "from datetime import datetime\n",
    "from dateutil.relativedelta import relativedelta\n",
    "import matplotlib.pyplot as plt\n",
    "import numpy as np\n",
    "\n",
    "\n",
    "def example_data_for_location_plot(product=PRODUCT, start_year=2001, endyear=2014):\n",
    "    \"\"\"Plot total product over time for region around Frascati\"\"\"\n",
    "    delta = relativedelta(months=1)\n",
    "    date = datetime(start_year, 1, 1)\n",
    "\n",
    "    # Initialise varaibles:\n",
    "    data = [[] for _ in range(12)]\n",
    "    time = range(1, 13)\n",
    "    \n",
    "    # Loop over years\n",
    "    year = start_year - 1\n",
    "    while date.year <= endyear:\n",
    "        if year != date.year:\n",
    "            year = date.year\n",
    "            print \"Reading\", year\n",
    "        start = date.date().isoformat()\n",
    "        end = (date + delta).date().isoformat()\n",
    "        \n",
    "        # Get data by calling our previously defined function:\n",
    "        raw_data = example_data_for_location(product, start, end)\n",
    "\n",
    "        data[date.month - 1].extend(\n",
    "            [\n",
    "                d['VMR'] for d in raw_data['Info']['Results']\n",
    "                if d['Quality'] is None\n",
    "            ]\n",
    "        )\n",
    "        date += delta\n",
    "\n",
    "    # Calculate statistics:\n",
    "    stds = np.array([np.nanstd(d) for d in data])\n",
    "    mins = np.array([np.nanmin(d) for d in data])\n",
    "    maxs = np.array([np.nanmax(d) for d in data])\n",
    "    data = np.array([np.nanmean(d) for d in data])\n",
    "\n",
    "    # Create figure:\n",
    "    plt.figure(1)\n",
    "    plt.clf()\n",
    "    \n",
    "    plt.errorbar(time, 1e6*data, 1e6*stds, fmt='s--g', lw=2, ms=7, capsize=8,\n",
    "                 capthick=2, label=r\"$mean$\")\n",
    "    plt.plot(time, 1e6*mins, '-.b', lw=2, label=r\"$min$\")\n",
    "    plt.plot(time, 1e6*maxs, '-.r', lw=2, label=r\"$max$\")\n",
    "\n",
    "    plt.xlabel(r\"$month$\")\n",
    "    plt.ylabel(r\"$VMR(O_3) \\cdot 1e6$\")\n",
    "    plt.legend(numpoints=1)\n",
    "    \n",
    "    plt.axis([0.5, 12.5, 0, 1e6*np.nanmax(data + 2*stds)])\n",
    "    plt.grid(True)\n",
    "    plt.xticks(range(1, 13), range(1, 13))"
   ]
  },
  {
   "cell_type": "code",
   "execution_count": 26,
   "metadata": {
    "collapsed": false
   },
   "outputs": [
    {
     "name": "stdout",
     "output_type": "stream",
     "text": [
      "Reading 2005\n",
      "Reading 2006\n",
      "Reading 2007\n",
      "Reading 2008\n",
      "Reading 2009\n",
      "Reading 2010\n",
      "Reading 2011\n",
      "Reading 2012\n",
      "Reading 2013\n",
      "Reading 2014\n"
     ]
    },
    {
     "data": {
      "image/png": "[encoded data removed]",
      "text/plain": [
       "<matplotlib.figure.Figure at 0x7fcb65418ad0>"
      ]
     },
     "metadata": {},
     "output_type": "display_data"
    }
   ],
   "source": [
    "%matplotlib inline\n",
    "example_data_for_location_plot(PRODUCT, 2005, 2014)"
   ]
  }
 ],
 "metadata": {
  "kernelspec": {
   "display_name": "Python 2",
   "language": "python",
   "name": "python2"
  },
  "language_info": {
   "codemirror_mode": {
    "name": "ipython",
    "version": 2
   },
   "file_extension": ".py",
   "mimetype": "text/x-python",
   "name": "python",
   "nbconvert_exporter": "python",
   "pygments_lexer": "ipython2",
   "version": "2.7.12"
  }
 },
 "nbformat": 4,
 "nbformat_minor": 1
}
